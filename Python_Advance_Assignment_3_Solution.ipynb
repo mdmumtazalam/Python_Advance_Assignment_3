{
  "cells": [
    {
      "cell_type": "markdown",
      "id": "8103f418",
      "metadata": {
        "id": "8103f418"
      },
      "source": [
        "# Python_Advance_Assignment_3 Solution :-\n",
        "SUBMITTED BY: MD MUMTAZ ALAM"
      ]
    },
    {
      "cell_type": "markdown",
      "id": "6ffab970",
      "metadata": {
        "id": "6ffab970"
      },
      "source": [
        "## 1. What is the concept of an abstract superclass?"
      ]
    },
    {
      "cell_type": "markdown",
      "id": "7371dde5",
      "metadata": {
        "id": "7371dde5"
      },
      "source": [
        "#### Ans: \n",
        "An abstract class/superclass can be considered as a blueprint for other classes. It allows US to create a set of methods that must be created within any child classes built from the abstract class. A class which contains one or more abstract methods is called an abstract class Whereas an abstract method is a method that has a declaration but does not have an implementation"
      ]
    },
    {
      "cell_type": "code",
      "execution_count": null,
      "id": "539b6b8d",
      "metadata": {
        "id": "539b6b8d"
      },
      "outputs": [],
      "source": [
        "from abc import ABC, abstractmethod\n",
        "class Polygon(ABC): # Abstract Class\n",
        "    @abstractmethod\n",
        "    def noofsides(self): # Abstract Method\n",
        "        pass\n",
        "class Triangle(Polygon):\n",
        "    def noofsides(self):  # overriding abstract method in child class Triangle\n",
        "        print(\"I have 3 sides\")\n",
        "class Pentagon(Polygon):\n",
        "    def noofsides(self): # overriding abstract method in child class Pentagon\n",
        "        print(\"I have 5 sides\")"
      ]
    },
    {
      "cell_type": "markdown",
      "id": "973febc3",
      "metadata": {
        "id": "973febc3"
      },
      "source": [
        "## 2. What happens when a class statement's top level contains a basic assignment statement?"
      ]
    },
    {
      "cell_type": "markdown",
      "id": "7f73c4f6",
      "metadata": {
        "id": "7f73c4f6"
      },
      "source": [
        "#### Ans: \n",
        "When a Class statement's top level contains a basic assignment statement, it is usually treated as a class attribute or class level variable where as assignment statements inside methods are treated as instance attributes or local attributes.\n",
        "\n",
        "When an instance of a class is created, a single copy of class attributes is maintained and shared to all instances of class where as each instance object maintains its own copy of instance variables."
      ]
    },
    {
      "cell_type": "code",
      "execution_count": null,
      "id": "f2aa932a",
      "metadata": {
        "id": "f2aa932a"
      },
      "outputs": [],
      "source": [
        "class Human:\n",
        "    species = 'Homesapiens' # class attribute\n",
        "    def __init__(self,name,gender):\n",
        "        self.name = name # instance attributes\n",
        "        self.gender = gender"
      ]
    },
    {
      "cell_type": "markdown",
      "id": "9e90150f",
      "metadata": {
        "id": "9e90150f"
      },
      "source": [
        "## 3. Why does a class need to manually call a superclass's init method?"
      ]
    },
    {
      "cell_type": "raw",
      "id": "156f7f91",
      "metadata": {
        "id": "156f7f91"
      },
      "source": [
        "Ans: \n",
        "\n",
        "if a child class has __init__ method, then it will not inherit the __init__ method of the parent class. In other words the __init__ method of the child class overrides the __init__ method of the parent class. So, we have to manually call a parent superclass's __init__ using super() method"
      ]
    },
    {
      "cell_type": "code",
      "execution_count": null,
      "id": "f60f1c01",
      "metadata": {
        "id": "f60f1c01",
        "outputId": "c3e62e39-da3b-41bf-ff58-a59a02ff66a1"
      },
      "outputs": [
        {
          "name": "stdout",
          "output_type": "stream",
          "text": [
            "{'name': 'Gaurav', 'age': 28, 'salary': 20000}\n"
          ]
        }
      ],
      "source": [
        "class Human:\n",
        "    def __init__(self,name,age):\n",
        "        self.name = name\n",
        "        self.age = age       \n",
        "class Employee(Human):\n",
        "    def __init__(self,name,age,salary):\n",
        "        super().__init__(name,age)\n",
        "        self.salary = salary\n",
        "emp_1 = Employee('Gaurav',28,20000)\n",
        "print(emp_1.__dict__)"
      ]
    },
    {
      "cell_type": "markdown",
      "id": "50241b0e",
      "metadata": {
        "id": "50241b0e"
      },
      "source": [
        "## 4. How can you augment, instead of completely replacing, an inherited method?"
      ]
    },
    {
      "cell_type": "markdown",
      "id": "85517bbd",
      "metadata": {
        "id": "85517bbd"
      },
      "source": [
        "#### Ans: \n",
        "super() method can be used to augment, instead of completely replacing, an inherited method."
      ]
    },
    {
      "cell_type": "code",
      "execution_count": null,
      "id": "356d7843",
      "metadata": {
        "id": "356d7843",
        "outputId": "62db53d6-48f6-4fd1-f437-0b6a8b516721"
      },
      "outputs": [
        {
          "name": "stdout",
          "output_type": "stream",
          "text": [
            "{'name': 'Gaurav', 'gender': 'Male', 'salary': 10000}\n"
          ]
        }
      ],
      "source": [
        "class Human:\n",
        "    def __init__(self,name,gender):\n",
        "        self.name = name\n",
        "        self.gender = gender\n",
        "class Employee(Human):\n",
        "    def __init__(self,name,gender,salary):\n",
        "        super().__init__(name,gender) \n",
        "        self.salary = salary\n",
        "emp_1 = Employee('Gaurav','Male',10000)\n",
        "print(emp_1.__dict__)       "
      ]
    },
    {
      "cell_type": "markdown",
      "id": "4917a674",
      "metadata": {
        "id": "4917a674"
      },
      "source": [
        "## 5. How is the local scope of a class different from that of a function?"
      ]
    },
    {
      "cell_type": "markdown",
      "id": "dda8e5e4",
      "metadata": {
        "id": "dda8e5e4"
      },
      "source": [
        "#### Ans: \n",
        "A Variable which is defined inside a function is local to that function. It is accesible from the point at which it is defined until the end of the function, and exists for as long as the function is existing.\n",
        "\n",
        "Similary a variable inside of a class also has a local variable scope. Variables which are defined in the class body (but outside all methods) are called as class level variables or class attributes. They can be referenced by their bare names within the same scope, but they can also be accessed from outside this scope if we use the attribute access operator (.) on a class or an instance of the class."
      ]
    },
    {
      "cell_type": "code",
      "execution_count": null,
      "id": "467d606f",
      "metadata": {
        "id": "467d606f",
        "outputId": "05ffdab4-002c-48bd-de11-83d9939f043c"
      },
      "outputs": [
        {
          "name": "stdout",
          "output_type": "stream",
          "text": [
            "you're name is Ambarish Singh\n",
            "Name varible is not available outside hello function scope\n",
            "HomeSapiens\n",
            "HomeSapiens\n"
          ]
        }
      ],
      "source": [
        "def hello(name):\n",
        "    name = name\n",
        "    print(f'you\\'re name is {name}')\n",
        "hello('Ambarish Singh')\n",
        "try:\n",
        "    name\n",
        "except NameError:\n",
        "    print('Name varible is not available outside hello function scope')\n",
        "\n",
        "class Person:\n",
        "    species = \"HomeSapiens\"\n",
        "    def __init__(self):\n",
        "        pass\n",
        "print(Person.species) # Accessing species using class name\n",
        "Male = Person()\n",
        "print(Male.species) # Accessing species using instance of class"
      ]
    },
    {
      "cell_type": "markdown",
      "id": "db36b927",
      "metadata": {
        "id": "db36b927"
      },
      "source": [
        "# Thank You"
      ]
    }
  ],
  "metadata": {
    "kernelspec": {
      "display_name": "Python 3 (ipykernel)",
      "language": "python",
      "name": "python3"
    },
    "language_info": {
      "codemirror_mode": {
        "name": "ipython",
        "version": 3
      },
      "file_extension": ".py",
      "mimetype": "text/x-python",
      "name": "python",
      "nbconvert_exporter": "python",
      "pygments_lexer": "ipython3",
      "version": "3.9.7"
    },
    "colab": {
      "provenance": []
    }
  },
  "nbformat": 4,
  "nbformat_minor": 5
}